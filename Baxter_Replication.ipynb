{
 "cells": [
  {
   "cell_type": "code",
   "execution_count": 1,
   "metadata": {},
   "outputs": [],
   "source": [
    "import numpy as np\n",
    "import random\n",
    "import matplotlib.pyplot as plt\n",
    "import pylab\n",
    "from scipy import stats \n",
    "import copy\n",
    "import math\n",
    "from tqdm import tqdm"
   ]
  },
  {
   "cell_type": "code",
   "execution_count": 2,
   "metadata": {},
   "outputs": [],
   "source": [
    "import matplotlib\n",
    "import matplotlib.animation as animation\n",
    "from IPython.display import Video\n",
    "import matplotlib as mpl\n",
    "\n",
    "def build_animation(states, save_name):\n",
    "    \"\"\"\n",
    "    A function that makes a very nice animation that can be used to debug the code or to \n",
    "    enjoy watching the simulation\n",
    "    \n",
    "    Source: https://stackoverflow.com/questions/17212722/matplotlib-imshow-how-to-animate\n",
    "    \"\"\"\n",
    "    \n",
    "    fps = 35\n",
    "    nSeconds = len(states)// fps\n",
    "\n",
    "    # First set up the figure, the axis, and the plot element we want to animate\n",
    "    fig = plt.figure( figsize=(8,8) )\n",
    "\n",
    "    a = states[0]\n",
    "\n",
    "\n",
    "    colors = ['white', 'darkblue', 'darkred',  'darkgreen', 'orange', 'black']\n",
    "    bounds = [ 0,1,2,3,4, 5]\n",
    "\n",
    "    cmap = mpl.colors.ListedColormap(colors)\n",
    "    norm = mpl.colors.BoundaryNorm(bounds, cmap.N)\n",
    "    pylab.cla()\n",
    "    im = pylab.imshow(a, interpolation='none', cmap=cmap, norm=norm)\n",
    "\n",
    "\n",
    "    def animate_func(i):\n",
    "        if i % fps == 0:\n",
    "            print( '.', end ='' )\n",
    "\n",
    "        im.set_array(states[i])\n",
    "        return [im]\n",
    "\n",
    "    anim = animation.FuncAnimation(\n",
    "                                   fig, \n",
    "                                   animate_func, \n",
    "                                   frames = nSeconds * fps,\n",
    "                                   interval = 1000 / fps, # in ms\n",
    "                                   )\n",
    "\n",
    "    anim.save(save_name, fps=fps, extra_args=['-vcodec', 'libx264'])\n",
    "\n",
    "    print('Done!')\n",
    "\n"
   ]
  },
  {
   "cell_type": "code",
   "execution_count": 3,
   "metadata": {},
   "outputs": [],
   "source": [
    "def observe(config):\n",
    "    \"\"\"\n",
    "    A function to observe the state of the CA\n",
    "    \"\"\"\n",
    "    plt.figure(figsize = (10, 8))\n",
    "    pylab.cla()\n",
    "    pylab.imshow(config, vmin = 0, vmax = 4, cmap = pylab.cm.binary)"
   ]
  },
  {
   "cell_type": "code",
   "execution_count": 4,
   "metadata": {},
   "outputs": [],
   "source": [
    "\n",
    "# the following vectorizers replace each cell in the CA by a lattice cell\n",
    "vectorizer_0 = np.vectorize(lambda x: lattice_cell(0))\n",
    "vectorizer_4 = np.vectorize(lambda x: lattice_cell(4))\n",
    "\n",
    "def initialize(rows, columns):\n",
    "    \"\"\"\n",
    "    A function to start the CA. It builds a hopper like container.\n",
    "    \n",
    "    \"\"\"\n",
    "    hole = int(0.03*columns) # the opening of the container\n",
    "    config = np.zeros((rows, columns)).astype(object)\n",
    "    show_config = np.zeros((rows, columns))\n",
    "    for row in range(rows):\n",
    "        for column in range(columns):\n",
    "            config[row, column] = lattice_cell(0) #filling with empty cells\n",
    "            show_config[row, column] =0\n",
    "            \n",
    "    # building the hopper: more black cells gradually from top to bottom        \n",
    "    tile = 1\n",
    "    for x in range(1, rows):\n",
    "        if x == 0:\n",
    "            continue\n",
    "        if x %2 !=0:\n",
    "            tile +=1\n",
    "        for y in range(tile-1):\n",
    "            config[x, y] = lattice_cell(4)\n",
    "            config[x, -y-1] = lattice_cell(4)\n",
    "            show_config[x, y] =4\n",
    "            show_config[x, -y-1] =4\n",
    "            \n",
    "     \n",
    "    config[-rows: , int((columns/2)) : hole+int((columns/2))] = vectorizer_0(config[-rows: , int((columns/2)) : hole+int((columns/2))])\n",
    "    config[-rows: , int((columns/2)-1)-hole+1 : int((columns/2)-1)+1] = vectorizer_0(config[-rows: , int((columns/2)-1)-hole+1 : int((columns/2)-1)+1])\n",
    "    \n",
    "    show_config[-rows: , int((columns/2)) : hole+int((columns/2))] =0\n",
    "    show_config[-rows: , int((columns/2)-1)-hole+1 : int((columns/2)-1)+1] =0\n",
    "    \n",
    "    \n",
    "    \n",
    "    #close:\n",
    "    config[-2: , int((columns/2)) : hole+int((columns/2))] = vectorizer_4(config[-2: , int((columns/2)) : hole+int((columns/2))])\n",
    "    config[-2: , int((columns/2)-1)-hole+1 : int((columns/2)-1)+1] = vectorizer_4(config[-2: , int((columns/2)-1)-hole+1 : int((columns/2)-1)+1])\n",
    "\n",
    "    show_config[-2: , int((columns/2)) : hole+int((columns/2))] = 4\n",
    "    show_config[-2: , int((columns/2)-1)-hole+1 : int((columns/2)-1)+1] =4\n",
    "    \n",
    "    return config, show_config"
   ]
  },
  {
   "cell_type": "code",
   "execution_count": 5,
   "metadata": {},
   "outputs": [],
   "source": [
    "# all the possible sets of (v, o):\n",
    "possible_states = [[0, 1], [0, 2], [0, 3],\n",
    "                   [1, 1], [1, 2], [1, 3],\n",
    "                   [2, 1],[2, 2], [2, 3],\n",
    "                   [3, 1], [3, 2], [3, 3],\n",
    "                   [4, 1], [4, 2], [4, 3],\n",
    "                   [5, 1], [5, 2], [5, 3]]"
   ]
  },
  {
   "cell_type": "code",
   "execution_count": 6,
   "metadata": {},
   "outputs": [],
   "source": [
    "\n",
    "def v_coordinates(coord_list, v):\n",
    "    \"\"\"\n",
    "    A function to get the coordinate of a neighbor cell using the current coordinate \n",
    "    and the direction\n",
    "    \"\"\"\n",
    "    row, column = coord_list\n",
    "    if v == 0: #rest\n",
    "        return([row, column])\n",
    "    \n",
    "    elif v == 1: #right\n",
    "        return([row, column+1])\n",
    "    \n",
    "    elif v == 2: #bottom right\n",
    "        return([row+1, column+1])\n",
    "\n",
    "    elif v == 3: # bottom \n",
    "        return([row+1, column])\n",
    "    \n",
    "    elif v == 4: #bottom left\n",
    "        return([row+1, column-1])\n",
    "    \n",
    "    elif v == 5: # left\n",
    "        return([row, column-1])\n",
    "\n",
    "    "
   ]
  },
  {
   "cell_type": "code",
   "execution_count": 7,
   "metadata": {},
   "outputs": [],
   "source": [
    "class grain_particle:\n",
    "    \"\"\"\n",
    "    A class for the granular particles. It contains their velocity direction, their oreitnation,\n",
    "    position, and energy\n",
    "    \"\"\"\n",
    "    def __init__(self, position,current_v, current_o):\n",
    "        self.current_v = current_v\n",
    "        self.next_v = None\n",
    "        self.current_o = current_o\n",
    "        self.next_o = None\n",
    "        self.next_E = None\n",
    "        self.position = position\n",
    "        self.destination =None \n",
    "        \n",
    "        \n",
    "class lattice_cell:\n",
    "    \"\"\"\n",
    "    A general class to be placed in the numpy array and contain the particles or act as walls\n",
    "    \"\"\" \n",
    "    def __init__(self, value):\n",
    "        self.value = value\n",
    "        self.particle = []\n",
    "        self.incoming_particles = []"
   ]
  },
  {
   "cell_type": "code",
   "execution_count": 8,
   "metadata": {},
   "outputs": [],
   "source": [
    "# the matrix to find the values of F_v\n",
    "\n",
    "                         #0 1 2 3 4 5   \n",
    "motion_matrix= np.array([[0.0,0.1,0.2,0.1,0.2,0.1],\n",
    "                         [0.1,0.0,0.1,0.2,0.3,0.2],\n",
    "                         [0.2,0.1,0.0,0.1,0.2,0.3],\n",
    "                         [0.1,0.2,0.1,0.0,0.1,0.2],\n",
    "                         [0.2,0.3,0.2,0.1,0.0,0.1],\n",
    "                         [0.1,0.2,0.3,0.2,0.1,0.0]])"
   ]
  },
  {
   "cell_type": "code",
   "execution_count": 9,
   "metadata": {},
   "outputs": [],
   "source": [
    "\n",
    "def interaction_step(config, particles, emptying = False):\n",
    "    \"\"\"\n",
    "    The first step in the model. This step is used to calculate the v and o for the grains.\n",
    "    \"\"\"\n",
    "    \n",
    "    active_sites = [] # the sites in which particles will travel to\n",
    "    \n",
    "    for particle in particles:\n",
    "        \n",
    "        row, column = particle.position\n",
    "        \n",
    "        \n",
    "        # neighbors of one grain:\n",
    "        neighbors = [[row-1, column-1], [row-1, column], [row-1, column+1], [row, column-1],\n",
    "                        [row, column+1], [row+1, column-1], [row+1, column],[row+1, column+1]]\n",
    "            \n",
    "        # getting the cells that have grain (not walls or empty)    \n",
    "        non_empty_neighbors = [i for i in neighbors if config[i[0],i[1]].value !=0 and  config[i[0],i[1]].value !=4]\n",
    "        below_sites = [config[i, j].value for i, j in neighbors[-3:]]\n",
    "        \n",
    "        # getting the empty cells\n",
    "        any_empty= [i for i in neighbors if config[i[0],i[1]].value ==0 ]\n",
    "        \n",
    "        # if the particle is fully surronded by particles then it can't move anywhere\n",
    "        if not any_empty:\n",
    "            continue\n",
    "            \n",
    "        # iterate over all possible combinations and get the energy for that combination   \n",
    "        hold_Es = []\n",
    "        hold_states = []\n",
    "        for v, o in possible_states:\n",
    "            \n",
    "            next_coord = v_coordinates([row, column], v)\n",
    "            if v != 0 and config[next_coord[0], next_coord[1]].value != 0:\n",
    "                continue # if there is no empty space to move to\n",
    "                \n",
    "            \n",
    "            if below_sites[0] == 0 or below_sites[1] == 0  or below_sites[2] == 0:\n",
    "                \n",
    "                if v != 4 and v != 3 and v != 2: # the gravity effect\n",
    "                    \n",
    "                    E_G = 3\n",
    "                    \n",
    "                else:\n",
    "                    E_G = 0\n",
    "            else:\n",
    "                E_G = 0\n",
    "\n",
    "            if below_sites[1] ==0 and v!= 3:\n",
    "                E_G = 3\n",
    "            \n",
    "            \n",
    "            # calculating the relative motion effect using the matrix\n",
    "            F_Vs = [ (motion_matrix[v,config[i, j].particle[0].current_v] +0.1) for \\\n",
    "                            i,j in non_empty_neighbors] \n",
    "            \n",
    "            # calculating the relative orientation effect\n",
    "            F_Os = [s if config[i,j].particle[0].current_o== o else 1 for i,j in non_empty_neighbors]\n",
    "            \n",
    "            \n",
    "            # calculating the dilation effect\n",
    "            if config[row-1, column].value ==1 and emptying and config[row+1, column].value ==1:\n",
    "                if config[row, column-1].value ==0 and v!=5:\n",
    "                    F_D = 1.1\n",
    "                \n",
    "                elif config[row, column+1].value ==0 and v!=1:\n",
    "                    F_D = 1.1\n",
    "                else:\n",
    "                    F_D = 0.2\n",
    "            else:\n",
    "                F_D = 0.2\n",
    "           \n",
    "             # finally, calculating the energy of that combination\n",
    "            F_Vs = np.array(F_Vs)**alpha\n",
    "            F_Os = np.array(F_Os)**Beta\n",
    "            F_Ds = F_D**gamma\n",
    "            E_I =F_Vs * F_Os * F_Ds\n",
    "            E_i = E_G+ sum(E_I)\n",
    "            hold_Es.append(E_i)\n",
    "            hold_states.append([v, o])\n",
    "            \n",
    "        if hold_Es:\n",
    "            # choosing the combiation that gives the minimum energy\n",
    "            minimum_states = np.array(hold_states)[np.where(np.array(hold_Es) == np.array(hold_Es).min())]\n",
    "            #print(minimum_states)\n",
    "            #print(\"\\n\")\n",
    "            choesn_state =  random.choice(minimum_states)\n",
    "            v, o = choesn_state\n",
    "            if 0 in minimum_states[:, 0]:\n",
    "                v = 0\n",
    "                o = config[row, column].particle[0].current_o\n",
    "            \n",
    "            \n",
    "            config[row, column].particle[0].next_v = v\n",
    "            config[row, column].particle[0].next_o = o\n",
    "            config[row, column].particle[0].next_E = min(hold_Es)\n",
    "            next_row, next_column = v_coordinates([row, column],v)\n",
    "            config[row, column].particle[0].destination = [next_row, next_column]\n",
    "            \n",
    "            config[next_row, next_column].incoming_particles.append(config[row, column].particle[0])\n",
    "            if [next_row, next_column] not in active_sites:\n",
    "                active_sites.append([next_row, next_column])\n",
    "            \n",
    "        # if there was no space to move, just put everything to rest\n",
    "        else:\n",
    "            \n",
    "            config[row, column].particle[0].next_v = 0\n",
    "            config[row, column].particle[0].next_o = config[row, column].particle[0].current_o\n",
    "            config[row, column].particle[0].next_E = 0\n",
    "            config[row, column].particle[0].destination = [row, column]\n",
    "            \n",
    "        \n",
    "    return config, particles, active_sites"
   ]
  },
  {
   "cell_type": "code",
   "execution_count": 10,
   "metadata": {},
   "outputs": [],
   "source": [
    "def propagation_step(config, particles, active_sites):\n",
    "    \"\"\"\n",
    "    The second main step in the model. In this step, particles will move one cell towards\n",
    "    their direction of motion\n",
    "    \"\"\"\n",
    "    \n",
    "    for site in active_sites: #iterating over the sites at which particles will move \n",
    "        row, column = site\n",
    "        \n",
    "        \n",
    "        # if there are more than one partice coming to one cell, choos the one with min energy\n",
    "        if len(config[row, column].incoming_particles) >1:\n",
    "            all_array = np.array(config[row, column].incoming_particles)\n",
    "            all_Es = np.array([i.next_E for i in all_array])\n",
    "            competing_particles = all_array[np.where(all_Es == all_Es.min())]\n",
    "            # if more than one with same minimum energy then choose one random\n",
    "            incoming_particle =  random.choice(competing_particles)\n",
    "            \n",
    "        else: #if only one particle coming to the cell then just move it\n",
    "            incoming_particle = config[row, column].incoming_particles[0]\n",
    "        \n",
    "        \n",
    "        # move the particles and update all the attributes to the new position\n",
    "        old_row, old_column = incoming_particle.position\n",
    "        config[old_row, old_column] = lattice_cell(0)\n",
    "        show_config[old_row, old_column] = 0\n",
    "       \n",
    "        config[row, column].particle =[incoming_particle] \n",
    "        config[row, column].incoming_particles = []\n",
    "        config[row, column].value = 1\n",
    "        show_config[row, column] = incoming_particle.next_o\n",
    "        \n",
    "        incoming_particle.position = [row, column]\n",
    "        incoming_particle.current_v = incoming_particle.next_v\n",
    "        incoming_particle.current_o = incoming_particle.next_o\n",
    "        \n",
    "    return config, particles"
   ]
  },
  {
   "cell_type": "markdown",
   "metadata": {},
   "source": [
    "## Starting with a test:"
   ]
  },
  {
   "cell_type": "code",
   "execution_count": 11,
   "metadata": {},
   "outputs": [],
   "source": [
    "s = 0.01\n",
    "alpha = 3\n",
    "Beta = 1\n",
    "gamma = 2\n",
    "\n",
    "# tester\n",
    "particles = [grain_particle([24, 25], 3, 1), grain_particle([25, 25], 3, 1), grain_particle([26, 25], 3, 1)]\n",
    "\n",
    "\n",
    "config, show_config = initialize(50, 50)\n",
    "for particle in particles:\n",
    "    row, column = particle.position\n",
    "    config[row, column].value = 1\n",
    "    config[row, column].particle = [particle]\n",
    "    show_config[row, column] = particle.current_o\n",
    "    \n",
    "\n",
    "states = []\n",
    "states.append(np.array(show_config))\n",
    "for i in range(100):\n",
    "    \n",
    "    config, particles, active_sites = interaction_step(config, particles)\n",
    "    config, particles = propagation_step(config, particles, active_sites)\n",
    "    states.append(np.array(show_config))\n"
   ]
  },
  {
   "cell_type": "code",
   "execution_count": 12,
   "metadata": {},
   "outputs": [
    {
     "name": "stdout",
     "output_type": "stream",
     "text": [
      "...Done!\n"
     ]
    },
    {
     "data": {
      "image/png": "[encoded data removed]",
      "text/plain": [
       "<Figure size 576x576 with 1 Axes>"
      ]
     },
     "metadata": {
      "needs_background": "light"
     },
     "output_type": "display_data"
    }
   ],
   "source": [
    "build_animation(states, \"baxter1.mp4\")"
   ]
  },
  {
   "cell_type": "code",
   "execution_count": 13,
   "metadata": {},
   "outputs": [
    {
     "data": {
      "text/html": [
       "<video src=\"baxter1.mp4\" controls  >\n",
       "      Your browser does not support the <code>video</code> element.\n",
       "    </video>"
      ],
      "text/plain": [
       "<IPython.core.display.Video object>"
      ]
     },
     "execution_count": 13,
     "metadata": {},
     "output_type": "execute_result"
    }
   ],
   "source": [
    "from IPython.display import Video\n",
    "Video(\"baxter1.mp4\")"
   ]
  },
  {
   "cell_type": "markdown",
   "metadata": {},
   "source": [
    "## The case when the orientation is not considered (beta =0)"
   ]
  },
  {
   "cell_type": "code",
   "execution_count": 14,
   "metadata": {},
   "outputs": [],
   "source": [
    "# the filling step: raining partices\n",
    "\n",
    "s = 0.01\n",
    "alpha = 3\n",
    "Beta = 0\n",
    "gamma = 2\n",
    "\n",
    "\n",
    "rows = columns  = 250\n",
    "hole = int(0.02*columns)\n",
    "config, show_config = initialize(rows, columns)\n",
    "#rain = np.linspace(90, 160, 45, dtype=int)\n",
    "\n",
    "rain = np.linspace(75, 175, 60, dtype=int)\n",
    "\n",
    "particles = []\n",
    "states = []\n",
    "states.append(np.array(show_config))\n"
   ]
  },
  {
   "cell_type": "code",
   "execution_count": 15,
   "metadata": {},
   "outputs": [
    {
     "name": "stderr",
     "output_type": "stream",
     "text": [
      "100%|██████████| 1000/1000 [07:56<00:00,  2.10it/s]\n"
     ]
    }
   ],
   "source": [
    "s = 0.01\n",
    "alpha = 3\n",
    "Beta = 0\n",
    "gamma = 2\n",
    "\n",
    "for i in tqdm(range(1000)): #1000\n",
    "    \n",
    "    if i%5==0 and i<900: #900\n",
    "        new_cells = [lattice_cell(1) for j in range(len(rain))]\n",
    "        new_particles = [grain_particle([2, column],3, random.choice([1, 2, 3])) for column in rain]\n",
    "        [new_cells[ind].particle.append(partic) for ind, partic in enumerate(new_particles)]\n",
    "        np.put(config[2], rain, new_cells)\n",
    "        particles+= new_particles\n",
    "    config, particles, active_sites = interaction_step(config, particles)\n",
    "    config, particles = propagation_step(config, particles, active_sites)\n",
    "    states.append(np.array(show_config))\n",
    "    \n",
    "    "
   ]
  },
  {
   "cell_type": "code",
   "execution_count": 16,
   "metadata": {},
   "outputs": [
    {
     "name": "stdout",
     "output_type": "stream",
     "text": [
      ".............................Done!\n"
     ]
    },
    {
     "data": {
      "image/png": "[encoded data removed]",
      "text/plain": [
       "<Figure size 576x576 with 1 Axes>"
      ]
     },
     "metadata": {
      "needs_background": "light"
     },
     "output_type": "display_data"
    }
   ],
   "source": [
    "build_animation(states, \"baxter2.mp4\")"
   ]
  },
  {
   "cell_type": "code",
   "execution_count": 17,
   "metadata": {},
   "outputs": [
    {
     "data": {
      "text/html": [
       "<video src=\"baxter2.mp4\" controls  >\n",
       "      Your browser does not support the <code>video</code> element.\n",
       "    </video>"
      ],
      "text/plain": [
       "<IPython.core.display.Video object>"
      ]
     },
     "execution_count": 17,
     "metadata": {},
     "output_type": "execute_result"
    }
   ],
   "source": [
    "from IPython.display import Video\n",
    "Video(\"baxter2.mp4\")"
   ]
  },
  {
   "cell_type": "code",
   "execution_count": 18,
   "metadata": {},
   "outputs": [],
   "source": [
    "#The emptying step:\n",
    "\n",
    "#open\n",
    "config[-2: , int((columns/2)) : hole+int((columns/2))] = vectorizer_0(config[-2: , int((columns/2)) : hole+int((columns/2))])\n",
    "config[-2: , int((columns/2)-1)-hole+1 : int((columns/2)-1)+1] = vectorizer_0(config[-2: , int((columns/2)-1)-hole+1 : int((columns/2)-1)+1])\n",
    "\n",
    "#open\n",
    "show_config[-2: , int((columns/2)) : hole+int((columns/2))] = 0\n",
    "show_config[-2: , int((columns/2)-1)-hole+1 : int((columns/2)-1)+1] = 0\n",
    "states_empty = []\n",
    "counter = []"
   ]
  },
  {
   "cell_type": "code",
   "execution_count": 19,
   "metadata": {},
   "outputs": [
    {
     "name": "stderr",
     "output_type": "stream",
     "text": [
      "100%|██████████| 1000/1000 [05:58<00:00,  2.79it/s]\n"
     ]
    }
   ],
   "source": [
    "for i in tqdm(range(1000)):\n",
    " \n",
    "    config, particles, active_sites = interaction_step(config, particles, emptying=True)\n",
    "    config, particles = propagation_step(config, particles, active_sites)\n",
    "    states_empty.append(np.array(show_config))\n",
    "    \n",
    "    \n",
    "    l1 = sum([len(i.particle) for i in config[-2: , int((columns/2)) : hole+int((columns/2))].ravel()])\n",
    "    l2 = sum([len(i.particle) for i in config[-2: , int((columns/2)-1)-hole+1 : int((columns/2)-1)+1].ravel()])\n",
    "    counter.append(l1+l2)\n",
    "    #remove\n",
    "    [particles.remove(i.particle[0]) for i in config[-1: , int((columns/2)) : hole+int((columns/2))].ravel() if i.particle]\n",
    "    [particles.remove(i.particle[0]) for i in config[-1: , int((columns/2)-1)-hole+1 : int((columns/2)-1)+1].ravel() if i.particle]\n",
    "    #empty\n",
    "    config[-1: , int((columns/2)) : hole+int((columns/2))] = vectorizer_0(config[-1: , int((columns/2)) : hole+int((columns/2))])\n",
    "    config[-1: , int((columns/2)-1)-hole+1 : int((columns/2)-1)+1] = vectorizer_0(config[-1: , int((columns/2)-1)-hole+1 : int((columns/2)-1)+1])\n",
    "    show_config[-1: , int((columns/2)) : hole+int((columns/2))] = 0\n",
    "    show_config[-1: , int((columns/2)-1)-hole+1 : int((columns/2)-1)+1]=0\n"
   ]
  },
  {
   "cell_type": "code",
   "execution_count": 20,
   "metadata": {},
   "outputs": [
    {
     "name": "stdout",
     "output_type": "stream",
     "text": [
      ".............................Done!\n"
     ]
    },
    {
     "data": {
      "image/png": "[encoded data removed]",
      "text/plain": [
       "<Figure size 576x576 with 1 Axes>"
      ]
     },
     "metadata": {
      "needs_background": "light"
     },
     "output_type": "display_data"
    }
   ],
   "source": [
    "build_animation(states_empty, \"baxter1_empty.mp4\")"
   ]
  },
  {
   "cell_type": "code",
   "execution_count": 21,
   "metadata": {},
   "outputs": [
    {
     "data": {
      "text/html": [
       "<video src=\"baxter1_empty.mp4\" controls  >\n",
       "      Your browser does not support the <code>video</code> element.\n",
       "    </video>"
      ],
      "text/plain": [
       "<IPython.core.display.Video object>"
      ]
     },
     "execution_count": 21,
     "metadata": {},
     "output_type": "execute_result"
    }
   ],
   "source": [
    "from IPython.display import Video\n",
    "Video(\"baxter1_empty.mp4\")"
   ]
  },
  {
   "cell_type": "markdown",
   "metadata": {},
   "source": [
    "## The case when the orientation is considered."
   ]
  },
  {
   "cell_type": "code",
   "execution_count": 22,
   "metadata": {},
   "outputs": [],
   "source": [
    "\n",
    "rows = columns  = 250\n",
    "hole = int(0.02*columns)\n",
    "config, show_config = initialize(rows, columns)\n",
    "\n",
    "rain = np.linspace(90, 160, 45, dtype=int)\n",
    "\n",
    "#rain = np.linspace(75, 175, 40, dtype=int)\n",
    "\n",
    "particles = []\n",
    "states = []\n",
    "states.append(np.array(show_config))\n"
   ]
  },
  {
   "cell_type": "code",
   "execution_count": 23,
   "metadata": {},
   "outputs": [
    {
     "name": "stderr",
     "output_type": "stream",
     "text": [
      "100%|██████████| 1900/1900 [08:23<00:00,  3.78it/s]\n"
     ]
    }
   ],
   "source": [
    "s = 0.01\n",
    "alpha = 3\n",
    "Beta = 1\n",
    "gamma = 2\n",
    "\n",
    "for i in tqdm(range(1900)):#1900\n",
    "    \n",
    "    if i%5==0 and i<1100: #1100\n",
    "        new_cells = [lattice_cell(1) for j in range(len(rain))]\n",
    "        new_particles = [grain_particle([2, column],3, random.choice([1, 2, 3])) for column in rain]\n",
    "        [new_cells[ind].particle.append(partic) for ind, partic in enumerate(new_particles)]\n",
    "        np.put(config[2], rain, new_cells)\n",
    "        particles+= new_particles\n",
    "    config, particles, active_sites = interaction_step(config, particles)\n",
    "    config, particles = propagation_step(config, particles, active_sites)\n",
    "    states.append(np.array(show_config))\n",
    "    \n",
    "    "
   ]
  },
  {
   "cell_type": "code",
   "execution_count": 24,
   "metadata": {},
   "outputs": [
    {
     "name": "stdout",
     "output_type": "stream",
     "text": [
      ".......................................................Done!\n"
     ]
    },
    {
     "data": {
      "image/png": "[encoded data removed]",
      "text/plain": [
       "<Figure size 576x576 with 1 Axes>"
      ]
     },
     "metadata": {
      "needs_background": "light"
     },
     "output_type": "display_data"
    }
   ],
   "source": [
    "build_animation(states, \"baxter3.mp4\")"
   ]
  },
  {
   "cell_type": "code",
   "execution_count": 25,
   "metadata": {},
   "outputs": [
    {
     "data": {
      "text/html": [
       "<video src=\"baxter3.mp4\" controls  >\n",
       "      Your browser does not support the <code>video</code> element.\n",
       "    </video>"
      ],
      "text/plain": [
       "<IPython.core.display.Video object>"
      ]
     },
     "execution_count": 25,
     "metadata": {},
     "output_type": "execute_result"
    }
   ],
   "source": [
    "from IPython.display import Video\n",
    "Video(\"baxter3.mp4\")"
   ]
  },
  {
   "cell_type": "code",
   "execution_count": 26,
   "metadata": {},
   "outputs": [],
   "source": [
    "#emptying\n",
    "\n",
    "#open\n",
    "config[-2: , int((columns/2)) : hole+int((columns/2))] = vectorizer_0(config[-2: , int((columns/2)) : hole+int((columns/2))])\n",
    "config[-2: , int((columns/2)-1)-hole+1 : int((columns/2)-1)+1] = vectorizer_0(config[-2: , int((columns/2)-1)-hole+1 : int((columns/2)-1)+1])\n",
    "\n",
    "#open\n",
    "show_config[-2: , int((columns/2)) : hole+int((columns/2))] = 0\n",
    "show_config[-2: , int((columns/2)-1)-hole+1 : int((columns/2)-1)+1] = 0\n",
    "states_empty = []\n",
    "counter = []"
   ]
  },
  {
   "cell_type": "code",
   "execution_count": 27,
   "metadata": {},
   "outputs": [
    {
     "name": "stderr",
     "output_type": "stream",
     "text": [
      "100%|██████████| 1900/1900 [15:56<00:00,  1.99it/s]\n"
     ]
    }
   ],
   "source": [
    "for i in tqdm(range(1900)):\n",
    " \n",
    "    config, particles, active_sites = interaction_step(config, particles, emptying=True)\n",
    "    config, particles = propagation_step(config, particles, active_sites)\n",
    "    states_empty.append(np.array(show_config))\n",
    "    \n",
    "    \n",
    "    l1 = sum([len(i.particle) for i in config[-2: , int((columns/2)) : hole+int((columns/2))].ravel()])\n",
    "    l2 = sum([len(i.particle) for i in config[-2: , int((columns/2)-1)-hole+1 : int((columns/2)-1)+1].ravel()])\n",
    "    counter.append(l1+l2)\n",
    "    #remove\n",
    "    [particles.remove(i.particle[0]) for i in config[-1: , int((columns/2)) : hole+int((columns/2))].ravel() if i.particle]\n",
    "    [particles.remove(i.particle[0]) for i in config[-1: , int((columns/2)-1)-hole+1 : int((columns/2)-1)+1].ravel() if i.particle]\n",
    "    #empty\n",
    "    config[-1: , int((columns/2)) : hole+int((columns/2))] = vectorizer_0(config[-1: , int((columns/2)) : hole+int((columns/2))])\n",
    "    config[-1: , int((columns/2)-1)-hole+1 : int((columns/2)-1)+1] = vectorizer_0(config[-1: , int((columns/2)-1)-hole+1 : int((columns/2)-1)+1])\n",
    "    show_config[-1: , int((columns/2)) : hole+int((columns/2))] = 0\n",
    "    show_config[-1: , int((columns/2)-1)-hole+1 : int((columns/2)-1)+1]=0\n"
   ]
  },
  {
   "cell_type": "code",
   "execution_count": 28,
   "metadata": {},
   "outputs": [
    {
     "name": "stdout",
     "output_type": "stream",
     "text": [
      ".......................................................Done!\n"
     ]
    },
    {
     "data": {
      "image/png": "[encoded data removed]",
      "text/plain": [
       "<Figure size 576x576 with 1 Axes>"
      ]
     },
     "metadata": {
      "needs_background": "light"
     },
     "output_type": "display_data"
    }
   ],
   "source": [
    "build_animation(states_empty, \"baxter4.mp4\")"
   ]
  },
  {
   "cell_type": "code",
   "execution_count": 29,
   "metadata": {},
   "outputs": [
    {
     "data": {
      "text/html": [
       "<video src=\"baxter4.mp4\" controls  >\n",
       "      Your browser does not support the <code>video</code> element.\n",
       "    </video>"
      ],
      "text/plain": [
       "<IPython.core.display.Video object>"
      ]
     },
     "execution_count": 29,
     "metadata": {},
     "output_type": "execute_result"
    }
   ],
   "source": [
    "Video(\"baxter4.mp4\")"
   ]
  },
  {
   "cell_type": "markdown",
   "metadata": {},
   "source": [
    "## Generating the flow rate plots over 5 iterations"
   ]
  },
  {
   "cell_type": "code",
   "execution_count": 30,
   "metadata": {},
   "outputs": [
    {
     "name": "stdout",
     "output_type": "stream",
     "text": [
      "0 done\n",
      "1 done\n",
      "2 done\n",
      "3 done\n",
      "4 done\n"
     ]
    }
   ],
   "source": [
    "\n",
    "\n",
    "\n",
    "all_counters = []\n",
    "for iteration in range(5):\n",
    "    \n",
    "    rows = columns  = 100\n",
    "    hole = int(0.03*columns)\n",
    "    config, show_config = initialize(rows, columns)\n",
    "    rain = np.linspace(30, 70, 20, dtype=int)\n",
    "\n",
    "    #rain = np.linspace(100, 150, 25, dtype=int)\n",
    "\n",
    "    particles = []\n",
    "    states = []\n",
    "    #states.append(np.array(show_config))\n",
    "\n",
    "    for i in range(1000):\n",
    "\n",
    "        if i%5==0 and i<820:\n",
    "            new_cells = [lattice_cell(1) for j in range(len(rain))]\n",
    "            new_particles = [grain_particle([2, column],3, random.choice([1, 2, 3])) for column in rain]\n",
    "            [new_cells[ind].particle.append(partic) for ind, partic in enumerate(new_particles)]\n",
    "            np.put(config[2], rain, new_cells)\n",
    "            particles+= new_particles\n",
    "        config, particles, active_sites = interaction_step(config, particles)\n",
    "        config, particles = propagation_step(config, particles, active_sites)\n",
    "        #states.append(np.array(show_config))\n",
    "\n",
    "    #open\n",
    "    config[-2: , int((columns/2)) : hole+int((columns/2))] = vectorizer_0(config[-2: , int((columns/2)) : hole+int((columns/2))])\n",
    "    config[-2: , int((columns/2)-1)-hole+1 : int((columns/2)-1)+1] = vectorizer_0(config[-2: , int((columns/2)-1)-hole+1 : int((columns/2)-1)+1])\n",
    "\n",
    "    #open\n",
    "    show_config[-2: , int((columns/2)) : hole+int((columns/2))] = 0\n",
    "    show_config[-2: , int((columns/2)-1)-hole+1 : int((columns/2)-1)+1] = 0\n",
    "\n",
    "\n",
    "    states_empty = []\n",
    "    counter = []\n",
    "\n",
    "\n",
    "    for i in range(1150):\n",
    "\n",
    "        config, particles, active_sites = interaction_step(config, particles, emptying=True)\n",
    "        config, particles = propagation_step(config, particles, active_sites)\n",
    "        #states_empty.append(np.array(show_config))\n",
    "\n",
    "\n",
    "        l1 = sum([len(i.particle) for i in config[-1: , int((columns/2)) : hole+int((columns/2))].ravel()])\n",
    "        l2 = sum([len(i.particle) for i in config[-1: , int((columns/2)-1)-hole+1 : int((columns/2)-1)+1].ravel()])\n",
    "        counter.append(l1+l2)\n",
    "        #remove\n",
    "        [particles.remove(i.particle[0]) for i in config[-1: , int((columns/2)) : hole+int((columns/2))].ravel() if i.particle]\n",
    "        [particles.remove(i.particle[0]) for i in config[-1: , int((columns/2)-1)-hole+1 : int((columns/2)-1)+1].ravel() if i.particle]\n",
    "        #empty\n",
    "        config[-1: , int((columns/2)) : hole+int((columns/2))] = vectorizer_0(config[-1: , int((columns/2)) : hole+int((columns/2))])\n",
    "        config[-1: , int((columns/2)-1)-hole+1 : int((columns/2)-1)+1] = vectorizer_0(config[-1: , int((columns/2)-1)-hole+1 : int((columns/2)-1)+1])\n",
    "        show_config[-1: , int((columns/2)) : hole+int((columns/2))] = 0\n",
    "        show_config[-1: , int((columns/2)-1)-hole+1 : int((columns/2)-1)+1]=0\n",
    "\n",
    "    \n",
    "    all_counters.append(counter)\n",
    "    print(f\"{iteration} done\")\n",
    "    \n",
    "    \n",
    "    plt.show()\n"
   ]
  },
  {
   "cell_type": "code",
   "execution_count": 38,
   "metadata": {},
   "outputs": [
    {
     "data": {
      "image/png": "[encoded data removed]",
      "text/plain": [
       "<Figure size 432x288 with 1 Axes>"
      ]
     },
     "metadata": {
      "needs_background": "light"
     },
     "output_type": "display_data"
    }
   ],
   "source": [
    "plt.plot(np.mean(np.array(all_counters), axis=0)[700:1100], color = 'black')\n",
    "plt.title(\"Flow rate overtime (5 iterations averaged)\")\n",
    "plt.xlabel(\"Time\")\n",
    "plt.ylabel(\"Flow Rate per Iteration\")\n",
    "plt.show()"
   ]
  },
  {
   "cell_type": "code",
   "execution_count": 36,
   "metadata": {},
   "outputs": [
    {
     "data": {
      "image/png": "[encoded data removed]",
      "text/plain": [
       "<Figure size 432x288 with 1 Axes>"
      ]
     },
     "metadata": {
      "needs_background": "light"
     },
     "output_type": "display_data"
    }
   ],
   "source": [
    "plt.plot(np.mean(np.array(all_counters), axis=0)[700:], color = 'black')\n",
    "plt.title(\"Flow rate overtime (5 iterations averaged)\")\n",
    "plt.xlabel(\"Time\")\n",
    "plt.ylabel(\"Flow Rate per Iteration\")\n",
    "plt.show()"
   ]
  },
  {
   "cell_type": "markdown",
   "metadata": {},
   "source": [
    "## Generating the flow rate plots over 11 iterations"
   ]
  },
  {
   "cell_type": "code",
   "execution_count": 32,
   "metadata": {},
   "outputs": [
    {
     "name": "stdout",
     "output_type": "stream",
     "text": [
      "0 done\n",
      "1 done\n",
      "2 done\n",
      "3 done\n",
      "4 done\n",
      "5 done\n",
      "6 done\n",
      "7 done\n",
      "8 done\n",
      "9 done\n",
      "10 done\n"
     ]
    }
   ],
   "source": [
    "\n",
    "all_counters11 = []\n",
    "for iteration in range(11):\n",
    "    \n",
    "    rows = columns  = 100\n",
    "    hole = int(0.03*columns)\n",
    "    config, show_config = initialize(rows, columns)\n",
    "    rain = np.linspace(30, 70, 20, dtype=int)\n",
    "\n",
    "    #rain = np.linspace(100, 150, 25, dtype=int)\n",
    "\n",
    "    particles = []\n",
    "    states = []\n",
    "    #states.append(np.array(show_config))\n",
    "\n",
    "    for i in range(1000):\n",
    "\n",
    "        if i%5==0 and i<820:\n",
    "            new_cells = [lattice_cell(1) for j in range(len(rain))]\n",
    "            new_particles = [grain_particle([2, column],3, random.choice([1, 2, 3])) for column in rain]\n",
    "            [new_cells[ind].particle.append(partic) for ind, partic in enumerate(new_particles)]\n",
    "            np.put(config[2], rain, new_cells)\n",
    "            particles+= new_particles\n",
    "        config, particles, active_sites = interaction_step(config, particles)\n",
    "        config, particles = propagation_step(config, particles, active_sites)\n",
    "        #states.append(np.array(show_config))\n",
    "\n",
    "    #open\n",
    "    config[-2: , int((columns/2)) : hole+int((columns/2))] = vectorizer_0(config[-2: , int((columns/2)) : hole+int((columns/2))])\n",
    "    config[-2: , int((columns/2)-1)-hole+1 : int((columns/2)-1)+1] = vectorizer_0(config[-2: , int((columns/2)-1)-hole+1 : int((columns/2)-1)+1])\n",
    "\n",
    "    #open\n",
    "    show_config[-2: , int((columns/2)) : hole+int((columns/2))] = 0\n",
    "    show_config[-2: , int((columns/2)-1)-hole+1 : int((columns/2)-1)+1] = 0\n",
    "\n",
    "\n",
    "    states_empty = []\n",
    "    counter = []\n",
    "\n",
    "\n",
    "    for i in range(1150):\n",
    "\n",
    "        config, particles, active_sites = interaction_step(config, particles, emptying=True)\n",
    "        config, particles = propagation_step(config, particles, active_sites)\n",
    "        #states_empty.append(np.array(show_config))\n",
    "\n",
    "\n",
    "        l1 = sum([len(i.particle) for i in config[-1: , int((columns/2)) : hole+int((columns/2))].ravel()])\n",
    "        l2 = sum([len(i.particle) for i in config[-1: , int((columns/2)-1)-hole+1 : int((columns/2)-1)+1].ravel()])\n",
    "        counter.append(l1+l2)\n",
    "        #remove\n",
    "        [particles.remove(i.particle[0]) for i in config[-1: , int((columns/2)) : hole+int((columns/2))].ravel() if i.particle]\n",
    "        [particles.remove(i.particle[0]) for i in config[-1: , int((columns/2)-1)-hole+1 : int((columns/2)-1)+1].ravel() if i.particle]\n",
    "        #empty\n",
    "        config[-1: , int((columns/2)) : hole+int((columns/2))] = vectorizer_0(config[-1: , int((columns/2)) : hole+int((columns/2))])\n",
    "        config[-1: , int((columns/2)-1)-hole+1 : int((columns/2)-1)+1] = vectorizer_0(config[-1: , int((columns/2)-1)-hole+1 : int((columns/2)-1)+1])\n",
    "        show_config[-1: , int((columns/2)) : hole+int((columns/2))] = 0\n",
    "        show_config[-1: , int((columns/2)-1)-hole+1 : int((columns/2)-1)+1]=0\n",
    "\n",
    "    \n",
    "    all_counters11.append(counter)\n",
    "    print(f\"{iteration} done\")\n",
    "    \n",
    "    plt.show()"
   ]
  },
  {
   "cell_type": "code",
   "execution_count": 34,
   "metadata": {},
   "outputs": [
    {
     "data": {
      "image/png": "[encoded data removed]",
      "text/plain": [
       "<Figure size 432x288 with 1 Axes>"
      ]
     },
     "metadata": {
      "needs_background": "light"
     },
     "output_type": "display_data"
    }
   ],
   "source": [
    "plt.plot(np.mean(np.array(all_counters11), axis=0)[800:1100], color = 'black')\n",
    "plt.ylim(0)\n",
    "plt.title(\"Flow rate overtime (11 iterations averaged)\")\n",
    "plt.xlabel(\"Time\")\n",
    "plt.ylabel(\"Flow Rate per Iteration\")\n",
    "plt.show()"
   ]
  },
  {
   "cell_type": "code",
   "execution_count": 37,
   "metadata": {},
   "outputs": [
    {
     "data": {
      "image/png": "[encoded data removed]",
      "text/plain": [
       "<Figure size 432x288 with 1 Axes>"
      ]
     },
     "metadata": {
      "needs_background": "light"
     },
     "output_type": "display_data"
    }
   ],
   "source": [
    "plt.plot(np.mean(np.array(all_counters11), axis=0)[800:], color = 'black')\n",
    "plt.ylim(0)\n",
    "plt.title(\"Flow rate overtime (11 iterations averaged)\")\n",
    "plt.xlabel(\"Time\")\n",
    "plt.ylabel(\"Flow Rate per Iteration\")\n",
    "plt.show()"
   ]
  }
 ],
 "metadata": {
  "kernelspec": {
   "display_name": "Python 3",
   "language": "python",
   "name": "python3"
  },
  "language_info": {
   "codemirror_mode": {
    "name": "ipython",
    "version": 3
   },
   "file_extension": ".py",
   "mimetype": "text/x-python",
   "name": "python",
   "nbconvert_exporter": "python",
   "pygments_lexer": "ipython3",
   "version": "3.7.3"
  }
 },
 "nbformat": 4,
 "nbformat_minor": 4
}
